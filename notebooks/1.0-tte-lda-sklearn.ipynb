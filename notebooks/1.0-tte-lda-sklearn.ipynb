{
 "cells": [
  {
   "cell_type": "markdown",
   "metadata": {},
   "source": [
    "# Clustering: LDA w/ sklearn\n",
    "Prototyping NB for Clustering EUvsVirus Hackathon projects based on LDA using sklearn."
   ]
  },
  {
   "cell_type": "code",
   "execution_count": 1,
   "metadata": {},
   "outputs": [],
   "source": [
    "import os, warnings\n",
    "warnings.simplefilter(action=\"ignore\", category=FutureWarning)\n",
    "\n",
    "import numpy as np\n",
    "import pandas as pd\n",
    "\n",
    "import spacy\n",
    "from spacymoji import Emoji\n",
    "import regex as re\n",
    "import emoji\n",
    "\n",
    "from sklearn.model_selection import GridSearchCV\n",
    "from sklearn.feature_extraction.text import TfidfVectorizer\n",
    "from sklearn.decomposition import LatentDirichletAllocation\n",
    "from joblib import dump, load\n",
    "\n",
    "import pyLDAvis\n",
    "import pyLDAvis.sklearn\n",
    "pyLDAvis.enable_notebook()\n",
    "\n",
    "%matplotlib inline"
   ]
  },
  {
   "cell_type": "code",
   "execution_count": 2,
   "metadata": {},
   "outputs": [],
   "source": [
    "random_state = 23"
   ]
  },
  {
   "cell_type": "markdown",
   "metadata": {},
   "source": [
    "## Load"
   ]
  },
  {
   "cell_type": "markdown",
   "metadata": {},
   "source": [
    "Data"
   ]
  },
  {
   "cell_type": "code",
   "execution_count": 3,
   "metadata": {},
   "outputs": [],
   "source": [
    "data_path = \"/mnt/DATA/RWData Dropbox/EUvsVirus\"\n",
    "data_fpath = os.path.join(data_path, \"all_data.tsv\")"
   ]
  },
  {
   "cell_type": "code",
   "execution_count": 4,
   "metadata": {},
   "outputs": [
    {
     "name": "stdout",
     "output_type": "stream",
     "text": [
      "<class 'pandas.core.frame.DataFrame'>\n",
      "RangeIndex: 2159 entries, 0 to 2158\n",
      "Data columns (total 5 columns):\n",
      " #   Column        Non-Null Count  Dtype \n",
      "---  ------        --------------  ----- \n",
      " 0   Challenge     2159 non-null   object\n",
      " 1   SubChallenge  2159 non-null   object\n",
      " 2   ProjURL       2159 non-null   object\n",
      " 3   title         2159 non-null   object\n",
      " 4   text          2069 non-null   object\n",
      "dtypes: object(5)\n",
      "memory usage: 84.5+ KB\n",
      "None\n"
     ]
    },
    {
     "data": {
      "text/plain": [
       "(2159, 5)"
      ]
     },
     "execution_count": 4,
     "metadata": {},
     "output_type": "execute_result"
    }
   ],
   "source": [
    "data = pd.read_csv(data_fpath, sep=\"\\t\")\n",
    "print(data.info())\n",
    "data.shape"
   ]
  },
  {
   "cell_type": "markdown",
   "metadata": {},
   "source": [
    "NLP Model"
   ]
  },
  {
   "cell_type": "code",
   "execution_count": 5,
   "metadata": {},
   "outputs": [],
   "source": [
    "nlp = spacy.load(\"en_core_web_md\", disable=[\"ner\", \"parser\", \"tagger\"])\n",
    "emoji = Emoji(nlp, merge_spans=False)\n",
    "nlp.add_pipe(emoji, first=True)"
   ]
  },
  {
   "cell_type": "markdown",
   "metadata": {},
   "source": [
    "## Preprocessing"
   ]
  },
  {
   "cell_type": "code",
   "execution_count": 6,
   "metadata": {},
   "outputs": [
    {
     "data": {
      "text/plain": [
       "(2067,)"
      ]
     },
     "execution_count": 6,
     "metadata": {},
     "output_type": "execute_result"
    }
   ],
   "source": [
    "data.text.replace(\"\", np.nan, inplace=True)\n",
    "nan_removed = data.dropna(subset=[\"text\"])\n",
    "data_cleaned = nan_removed.drop_duplicates(subset=[\"text\", \"title\"], keep=\"first\")\n",
    "raw_corpus = data_cleaned.text\n",
    "\n",
    "raw_corpus.shape"
   ]
  },
  {
   "cell_type": "markdown",
   "metadata": {},
   "source": [
    "### Text  Cleansing"
   ]
  },
  {
   "cell_type": "markdown",
   "metadata": {},
   "source": [
    "Maybe later: Remove header texts; Split and structure text parts"
   ]
  },
  {
   "cell_type": "code",
   "execution_count": 36,
   "metadata": {},
   "outputs": [],
   "source": [
    "def spacy_tokenizer(doc):\n",
    "    tokens = [token for token in nlp(doc)]\n",
    "    cleaned_tokens = []\n",
    "                                        \n",
    "    for token in tokens:\n",
    "        if not any(map(lambda x: getattr(token, x), [\"is_punct\", \"is_digit\",\n",
    "                                                     \"is_space\", \"like_url\",\n",
    "                                                     \"like_num\", \"like_email\",\n",
    "                                                     \"is_stop\"\n",
    "                                                     ])):\n",
    "            cleaned_tokens.append(token)\n",
    "    \n",
    "    # Post-processing steps\n",
    "    lemmas = [token.lemma_ for token in cleaned_tokens]\n",
    "    punct_removed = [re.sub(r\"[.!?+:/\\\\-]\", \"\", lemma) for lemma in lemmas]\n",
    "    num_removed = [token for token in punct_removed if token.isalpha()]\n",
    "    single_char_removed = [token for token in num_removed if len(token) > 1]\n",
    "    \n",
    "    return single_char_removed"
   ]
  },
  {
   "cell_type": "code",
   "execution_count": 25,
   "metadata": {},
   "outputs": [],
   "source": [
    "cleaned_txt = corpus.apply(spacy_tokenizer)"
   ]
  },
  {
   "cell_type": "code",
   "execution_count": 10,
   "metadata": {},
   "outputs": [],
   "source": [
    "#corpus[26]"
   ]
  },
  {
   "cell_type": "code",
   "execution_count": 11,
   "metadata": {},
   "outputs": [],
   "source": [
    "#cleaned_txt[26]"
   ]
  },
  {
   "cell_type": "markdown",
   "metadata": {},
   "source": [
    "## Topic Modeling\n",
    "TFIDF + LDA"
   ]
  },
  {
   "cell_type": "markdown",
   "metadata": {},
   "source": [
    "### Vectorizer"
   ]
  },
  {
   "cell_type": "code",
   "execution_count": 39,
   "metadata": {},
   "outputs": [
    {
     "data": {
      "text/plain": [
       "(2067, 20000)"
      ]
     },
     "execution_count": 39,
     "metadata": {},
     "output_type": "execute_result"
    }
   ],
   "source": [
    "tfidf = TfidfVectorizer(lowercase=True, tokenizer=spacy_tokenizer, max_features=20000)\n",
    "# total tokens 25744 -> get rid of infrequent\n",
    "tfidf_v = tfidf.fit_transform(raw_corpus)\n",
    "\n",
    "tfidf_v.shape"
   ]
  },
  {
   "cell_type": "code",
   "execution_count": 42,
   "metadata": {},
   "outputs": [],
   "source": [
    "#tfidf.get_feature_names()"
   ]
  },
  {
   "cell_type": "markdown",
   "metadata": {},
   "source": [
    "### Model"
   ]
  },
  {
   "cell_type": "code",
   "execution_count": 45,
   "metadata": {},
   "outputs": [],
   "source": [
    "#FIXME\n",
    "models = {\n",
    "    \"lda_20_t2\": LatentDirichletAllocation(n_components=20, n_jobs=1, random_state=random_state, verbose=1),\n",
    "    \"lda_25_t2\": LatentDirichletAllocation(n_components=25, n_jobs=1, random_state=random_state, verbose=1),\n",
    "    \"lda_30_t2\": LatentDirichletAllocation(n_components=30, n_jobs=1, random_state=random_state, verbose=1),\n",
    "    \"lda_35_t2\": LatentDirichletAllocation(n_components=35, n_jobs=1, random_state=random_state, verbose=1),\n",
    "    \"lda_40_t2\": LatentDirichletAllocation(n_components=40, n_jobs=1, random_state=random_state, verbose=1),\n",
    "    \"lda_45_t2\": LatentDirichletAllocation(n_components=45, n_jobs=1, random_state=random_state, verbose=1),\n",
    "    \"lda_50_t2\": LatentDirichletAllocation(n_components=50, n_jobs=1, random_state=random_state, verbose=1),\n",
    "    \"lda_55_t2\": LatentDirichletAllocation(n_components=55, n_jobs=1, random_state=random_state, verbose=1),\n",
    "    \"lda_60_t2\": LatentDirichletAllocation(n_components=60, n_jobs=1, random_state=random_state, verbose=1),\n",
    "    \"lda_65_t2\": LatentDirichletAllocation(n_components=65, n_jobs=1, random_state=random_state, verbose=1)\n",
    "}"
   ]
  },
  {
   "cell_type": "code",
   "execution_count": 46,
   "metadata": {},
   "outputs": [
    {
     "name": "stdout",
     "output_type": "stream",
     "text": [
      "iteration: 1 of max_iter: 10\n",
      "iteration: 2 of max_iter: 10\n",
      "iteration: 3 of max_iter: 10\n",
      "iteration: 4 of max_iter: 10\n",
      "iteration: 5 of max_iter: 10\n",
      "iteration: 6 of max_iter: 10\n",
      "iteration: 7 of max_iter: 10\n",
      "iteration: 8 of max_iter: 10\n",
      "iteration: 9 of max_iter: 10\n",
      "iteration: 10 of max_iter: 10\n"
     ]
    },
    {
     "data": {
      "text/plain": [
       "LatentDirichletAllocation(batch_size=128, doc_topic_prior=None,\n",
       "                          evaluate_every=-1, learning_decay=0.7,\n",
       "                          learning_method='batch', learning_offset=10.0,\n",
       "                          max_doc_update_iter=100, max_iter=10,\n",
       "                          mean_change_tol=0.001, n_components=30, n_jobs=-1,\n",
       "                          perp_tol=0.1, random_state=23, topic_word_prior=None,\n",
       "                          total_samples=1000000.0, verbose=1)"
      ]
     },
     "execution_count": 46,
     "metadata": {},
     "output_type": "execute_result"
    }
   ],
   "source": [
    "#FIXME lda_path = os.path.join(model_path, \"topic_lda\")\n",
    "\n",
    "for model in models:\n",
    "    print(\"Fitting\", model)\n",
    "    models[model].fit(tfidf_v)\n",
    "    print(\"Dump\", model, \"\\n\")\n",
    "    dump(models[model], os.path.join(lda_path, model + \".joblib\"))"
   ]
  },
  {
   "cell_type": "code",
   "execution_count": null,
   "metadata": {},
   "outputs": [],
   "source": [
    "def print_scores(model, name):\n",
    "    \"\"\" Prints Log-Likelihood and Perplexity scores of model. \"\"\"\n",
    "    print(\"Scores for\", name)\n",
    "    print(\"Log Likelihood:\", model.score(tfidf_v))\n",
    "    print(\"Perplexity:\", model.perplexity(tfidf_v), \"\\n\")\n",
    "\n",
    "for model in models:\n",
    "    print_scores(models[model], model)"
   ]
  },
  {
   "cell_type": "code",
   "execution_count": null,
   "metadata": {},
   "outputs": [],
   "source": [
    "#FIXME viz_path = os.path.join(figures_path, \"topics\")\n",
    "\n",
    "# for model in models:\n",
    "#         p = None\n",
    "#         p = pyLDAvis.sklearn.prepare(models[model], tfidif_v, tfidf, mds=\"tsne\")\n",
    "#         pyLDAvis.save_html(p, os.path.join(viz_path, \"topics_\" + model + \".html\"))\n",
    "#         print(\"topics_\" + model + \" persisted\")"
   ]
  },
  {
   "cell_type": "markdown",
   "metadata": {},
   "source": [
    "# Conclusion"
   ]
  },
  {
   "cell_type": "markdown",
   "metadata": {},
   "source": [
    "#FIXME"
   ]
  },
  {
   "cell_type": "code",
   "execution_count": null,
   "metadata": {},
   "outputs": [],
   "source": []
  }
 ],
 "metadata": {
  "kernelspec": {
   "display_name": "Python 3",
   "language": "python",
   "name": "python3"
  },
  "language_info": {
   "codemirror_mode": {
    "name": "ipython",
    "version": 3
   },
   "file_extension": ".py",
   "mimetype": "text/x-python",
   "name": "python",
   "nbconvert_exporter": "python",
   "pygments_lexer": "ipython3",
   "version": "3.6.10"
  }
 },
 "nbformat": 4,
 "nbformat_minor": 4
}
