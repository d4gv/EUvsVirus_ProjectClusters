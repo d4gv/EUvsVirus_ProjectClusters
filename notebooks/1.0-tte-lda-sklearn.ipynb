{
 "cells": [
  {
   "cell_type": "markdown",
   "metadata": {},
   "source": [
    "# Clustering: LDA w/ sklearn\n",
    "Prototyping NB for Clustering EUvsVirus Hackathon projects based on LDA using sklearn."
   ]
  },
  {
   "cell_type": "code",
   "execution_count": 1,
   "metadata": {},
   "outputs": [],
   "source": [
    "import os, warnings\n",
    "warnings.simplefilter(action=\"ignore\", category=FutureWarning)\n",
    "\n",
    "import numpy as np\n",
    "import pandas as pd\n",
    "\n",
    "import spacy\n",
    "from spacymoji import Emoji\n",
    "import regex\n",
    "import emoji\n",
    "\n",
    "%matplotlib inline"
   ]
  },
  {
   "cell_type": "markdown",
   "metadata": {},
   "source": [
    "## Load"
   ]
  },
  {
   "cell_type": "markdown",
   "metadata": {},
   "source": [
    "Data"
   ]
  },
  {
   "cell_type": "code",
   "execution_count": 2,
   "metadata": {},
   "outputs": [],
   "source": [
    "data_path = \"/mnt/DATA/RWData Dropbox/EUvsVirus\"\n",
    "data_fpath = os.path.join(data_path, \"all_data.tsv\")"
   ]
  },
  {
   "cell_type": "code",
   "execution_count": 3,
   "metadata": {},
   "outputs": [
    {
     "name": "stdout",
     "output_type": "stream",
     "text": [
      "<class 'pandas.core.frame.DataFrame'>\n",
      "RangeIndex: 2159 entries, 0 to 2158\n",
      "Data columns (total 5 columns):\n",
      " #   Column        Non-Null Count  Dtype \n",
      "---  ------        --------------  ----- \n",
      " 0   Challenge     2159 non-null   object\n",
      " 1   SubChallenge  2159 non-null   object\n",
      " 2   ProjURL       2159 non-null   object\n",
      " 3   title         2159 non-null   object\n",
      " 4   text          2069 non-null   object\n",
      "dtypes: object(5)\n",
      "memory usage: 84.5+ KB\n",
      "None\n"
     ]
    },
    {
     "data": {
      "text/plain": [
       "(2159, 5)"
      ]
     },
     "execution_count": 3,
     "metadata": {},
     "output_type": "execute_result"
    }
   ],
   "source": [
    "data = pd.read_csv(data_fpath, sep=\"\\t\")\n",
    "print(data.info())\n",
    "data.shape"
   ]
  },
  {
   "cell_type": "markdown",
   "metadata": {},
   "source": [
    "NLP Model"
   ]
  },
  {
   "cell_type": "code",
   "execution_count": 4,
   "metadata": {},
   "outputs": [],
   "source": [
    "nlp = spacy.load(\"en_core_web_md\", disable=[\"ner\", \"parser\", \"tagger\"])\n",
    "emoji = Emoji(nlp, merge_spans=False)\n",
    "nlp.add_pipe(emoji, first=True)"
   ]
  },
  {
   "cell_type": "markdown",
   "metadata": {},
   "source": [
    "## Preprocess"
   ]
  },
  {
   "cell_type": "code",
   "execution_count": 5,
   "metadata": {},
   "outputs": [],
   "source": [
    "data_pure = data.dropna(subset=[\"text\"]) # remove text nan rows\n",
    "raw_corpus = data_pure.text"
   ]
  },
  {
   "cell_type": "markdown",
   "metadata": {},
   "source": [
    "### Cleansing"
   ]
  },
  {
   "cell_type": "code",
   "execution_count": 6,
   "metadata": {},
   "outputs": [],
   "source": [
    "# remove \\n \\r \\t\n",
    "corpus = raw_corpus.str.replace(r\"[\\n\\r\\t]\", \" \")\n",
    "\n",
    "# maybe later:\n",
    "# remove header texts\n",
    "# split and structure text parts\n",
    "# etc"
   ]
  },
  {
   "cell_type": "code",
   "execution_count": 7,
   "metadata": {},
   "outputs": [],
   "source": [
    "def spacy_cleaner(doc):\n",
    "    tokens = [token for token in nlp(doc)]\n",
    "    cleaned_tokens = []\n",
    "                                        \n",
    "    for token in tokens:\n",
    "        if not any(map(lambda x: getattr(token, x), [\"is_punct\", \"is_digit\",\n",
    "                                                     \"is_space\", \"like_url\",\n",
    "                                                     \"like_num\", \"like_email\",\n",
    "                                                     \"is_stop\"\n",
    "                                                     ])):\n",
    "            # maybe lemmatize here\n",
    "            cleaned_tokens.append(token)\n",
    "    \n",
    "    return \" \".join([token.orth_ for token in cleaned_tokens])\n",
    "\n",
    "cleaned_corpus = corpus.apply(spacy_cleaner)"
   ]
  },
  {
   "cell_type": "markdown",
   "metadata": {},
   "source": [
    "## LDA"
   ]
  },
  {
   "cell_type": "code",
   "execution_count": null,
   "metadata": {},
   "outputs": [],
   "source": []
  }
 ],
 "metadata": {
  "kernelspec": {
   "display_name": "Python 3",
   "language": "python",
   "name": "python3"
  },
  "language_info": {
   "codemirror_mode": {
    "name": "ipython",
    "version": 3
   },
   "file_extension": ".py",
   "mimetype": "text/x-python",
   "name": "python",
   "nbconvert_exporter": "python",
   "pygments_lexer": "ipython3",
   "version": "3.6.10"
  }
 },
 "nbformat": 4,
 "nbformat_minor": 4
}
