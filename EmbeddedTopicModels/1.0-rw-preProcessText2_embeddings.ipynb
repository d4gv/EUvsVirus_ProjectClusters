{
 "cells": [
  {
   "cell_type": "code",
   "execution_count": null,
   "metadata": {},
   "outputs": [],
   "source": [
    "# need to get the word embeddings for the data used, and save it in embeddings.txt\n",
    "\n",
    "# use first 1.0-rw-preProcessText_makeBOW or1.0-rw-preProcessText_makeBOW_forTopicAssignment to pre-process, \n",
    "# and now something similar to skipgram.py \n",
    "# (but without creating word embeddings, instead use pre-trained ones, eg these from FLAiR)\n",
    "# to create the embeddings.txt file"
   ]
  },
  {
   "cell_type": "code",
   "execution_count": 1,
   "metadata": {},
   "outputs": [
    {
     "name": "stdout",
     "output_type": "stream",
     "text": [
      "Better speed can be achieved with apex installed from https://www.github.com/nvidia/apex.\n"
     ]
    }
   ],
   "source": [
    "import gensim\n",
    "import pickle\n",
    "import os\n",
    "import numpy as np\n",
    "import argparse\n",
    "\n",
    "from flair.embeddings import WordEmbeddings\n",
    "from flair.data import Sentence"
   ]
  },
  {
   "cell_type": "code",
   "execution_count": 2,
   "metadata": {},
   "outputs": [
    {
     "data": {
      "text/plain": [
       "_StoreAction(option_strings=['--iters'], dest='iters', nargs=None, const=None, default=50, type=<class 'int'>, choices=None, help='number of iterationst', metavar=None)"
      ]
     },
     "execution_count": 2,
     "metadata": {},
     "output_type": "execute_result"
    }
   ],
   "source": [
    "parser = argparse.ArgumentParser(description='The Embedded Topic Model')\n",
    "\n",
    "### data and file related arguments\n",
    "parser.add_argument('--data_file', type=str, default='data/corpus.txt', help='a .txt file containing the corpus')\n",
    "parser.add_argument('--emb_file', type=str, default='data/embeddings.txt', help='file to save the word embeddings')\n",
    "parser.add_argument('--dim_rho', type=int, default=300, help='dimensionality of the word embeddings')\n",
    "parser.add_argument('--min_count', type=int, default=2, help='minimum term frequency (to define the vocabulary)')\n",
    "parser.add_argument('--sg', type=int, default=1, help='whether to use skip-gram')\n",
    "parser.add_argument('--workers', type=int, default=25, help='number of CPU cores')\n",
    "parser.add_argument('--negative_samples', type=int, default=10, help='number of negative samples')\n",
    "parser.add_argument('--window_size', type=int, default=4, help='window size to determine context')\n",
    "parser.add_argument('--iters', type=int, default=50, help='number of iterationst')\n"
   ]
  },
  {
   "cell_type": "code",
   "execution_count": 3,
   "metadata": {},
   "outputs": [],
   "source": [
    "args, unknown = parser.parse_known_args()\n",
    "\n",
    "# args = parser.parse_args()\n",
    "# based on solution from:\n",
    "# https://stackoverflow.com/questions/48796169/how-to-fix-ipykernel-launcher-py-error-unrecognized-arguments-in-jupyter"
   ]
  },
  {
   "cell_type": "code",
   "execution_count": 4,
   "metadata": {},
   "outputs": [],
   "source": [
    "# init embedding\n",
    "word_embedding = WordEmbeddings('crawl')"
   ]
  },
  {
   "cell_type": "code",
   "execution_count": 5,
   "metadata": {},
   "outputs": [],
   "source": [
    "######\n",
    "\n",
    "# Class for a memory-friendly iterator over the dataset\n",
    "class MyEmbeddings(object):\n",
    "    def __init__(self, filename, w_e):\n",
    "        self.filename = filename\n",
    "        self.word_embedding = w_e\n",
    " \n",
    "    # Write the embeddings to a file\n",
    "    def print_2_file(self):\n",
    "        with open(args.emb_file, 'w') as f:\n",
    "            for line in open(self.filename):\n",
    "                newLine = Sentence(line.replace(\"\\n\", \" \"))\n",
    "                \n",
    "                # embed sentence using crawl.\n",
    "                self.word_embedding.embed(newLine)\n",
    "                \n",
    "                l = len(newLine)\n",
    "                for i in range(0, l):\n",
    "                    token = newLine[i] \n",
    "                    repStr= \"Token: \" + str(i+1)\n",
    "                    v = str(token).replace(repStr, \"\").replace(\" \", \"\")\n",
    "                    vec = token.embedding\n",
    "                    f.write(v + ' ')\n",
    "                    vec_str = ['%.9f' % val for val in vec]\n",
    "                    vec_str = \" \".join(vec_str)\n",
    "                    f.write(vec_str + '\\n')\n",
    "        return None\n"
   ]
  },
  {
   "cell_type": "code",
   "execution_count": 6,
   "metadata": {},
   "outputs": [],
   "source": [
    "sentences = MyEmbeddings(filename = args.data_file, w_e = word_embedding) # a memory-friendly iterator\n",
    "sentences.print_2_file()"
   ]
  },
  {
   "cell_type": "code",
   "execution_count": null,
   "metadata": {},
   "outputs": [],
   "source": []
  }
 ],
 "metadata": {
  "kernelspec": {
   "display_name": "Python 3",
   "language": "python",
   "name": "python3"
  },
  "language_info": {
   "codemirror_mode": {
    "name": "ipython",
    "version": 3
   },
   "file_extension": ".py",
   "mimetype": "text/x-python",
   "name": "python",
   "nbconvert_exporter": "python",
   "pygments_lexer": "ipython3",
   "version": "3.6.4"
  }
 },
 "nbformat": 4,
 "nbformat_minor": 2
}
